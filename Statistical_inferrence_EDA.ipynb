{
 "cells": [
  {
   "cell_type": "markdown",
   "metadata": {},
   "source": [
    "## Statistical Inference on a Sample Set\n",
    "#### Gender Differences in Movie Screenplays\n",
    "##### By I-Ching Wang, Michelle Kim, and Nikki Haas"
   ]
  },
  {
   "cell_type": "markdown",
   "metadata": {},
   "source": [
    "Movies are often criticized for not giving serious roles to women, but is it really true?  Our project for this term is to explore just this question.  We have gathered lines from over 20,000 characters in scripts available from the internet move script database and hand classified genders to 1,100 randomly selected characters.  In this section of our project, we will explore the line count and frequency distribution for our characters, statistical inference and  linear regression to see what sort of insights can be gained before we build a machine learning model."
   ]
  },
  {
   "cell_type": "markdown",
   "metadata": {},
   "source": [
    "##### Part 0: Read in Data"
   ]
  },
  {
   "cell_type": "code",
   "execution_count": 180,
   "metadata": {},
   "outputs": [
    {
     "data": {
      "text/plain": [
       "'2.7.13 |Anaconda, Inc.| (default, Sep 21 2017, 17:38:20) \\n[GCC 4.2.1 Compatible Clang 4.0.1 (tags/RELEASE_401/final)]'"
      ]
     },
     "execution_count": 180,
     "metadata": {},
     "output_type": "execute_result"
    }
   ],
   "source": [
    "import pandas as pd\n",
    "import numpy as np\n",
    "from matplotlib import pyplot as plt\n",
    "from sklearn.metrics import mean_squared_error, r2_score\n",
    "from sklearn.linear_model import LogisticRegression as LR\n",
    "from sklearn.metrics import confusion_matrix\n",
    "import json\n",
    "import re\n",
    "import sys\n",
    "import math\n",
    "import seaborn as sns\n",
    "%matplotlib inline\n",
    "sys.version"
   ]
  },
  {
   "cell_type": "code",
   "execution_count": 18,
   "metadata": {},
   "outputs": [
    {
     "data": {
      "text/html": [
       "<div>\n",
       "<style>\n",
       "    .dataframe thead tr:only-child th {\n",
       "        text-align: right;\n",
       "    }\n",
       "\n",
       "    .dataframe thead th {\n",
       "        text-align: left;\n",
       "    }\n",
       "\n",
       "    .dataframe tbody tr th {\n",
       "        vertical-align: top;\n",
       "    }\n",
       "</style>\n",
       "<table border=\"1\" class=\"dataframe\">\n",
       "  <thead>\n",
       "    <tr style=\"text-align: right;\">\n",
       "      <th></th>\n",
       "      <th>id</th>\n",
       "      <th>char</th>\n",
       "      <th>gender</th>\n",
       "      <th>genre</th>\n",
       "      <th>title</th>\n",
       "      <th>line_count</th>\n",
       "      <th>pkey</th>\n",
       "    </tr>\n",
       "  </thead>\n",
       "  <tbody>\n",
       "    <tr>\n",
       "      <th>0</th>\n",
       "      <td>1</td>\n",
       "      <td>WILLY</td>\n",
       "      <td>M</td>\n",
       "      <td>Musical</td>\n",
       "      <td>sisteract</td>\n",
       "      <td>58</td>\n",
       "      <td>willy-sisteract</td>\n",
       "    </tr>\n",
       "    <tr>\n",
       "      <th>1</th>\n",
       "      <td>2</td>\n",
       "      <td>ATHOS</td>\n",
       "      <td>M</td>\n",
       "      <td>Action</td>\n",
       "      <td>manintheironmask</td>\n",
       "      <td>378</td>\n",
       "      <td>athos-manintheironmask</td>\n",
       "    </tr>\n",
       "    <tr>\n",
       "      <th>2</th>\n",
       "      <td>3</td>\n",
       "      <td>AUGUSTUS</td>\n",
       "      <td>M</td>\n",
       "      <td>Action</td>\n",
       "      <td>perfectcreature</td>\n",
       "      <td>222</td>\n",
       "      <td>augustus-perfectcreature</td>\n",
       "    </tr>\n",
       "    <tr>\n",
       "      <th>3</th>\n",
       "      <td>4</td>\n",
       "      <td>MCKEE (cont'd)</td>\n",
       "      <td>NaN</td>\n",
       "      <td>Drama</td>\n",
       "      <td>adaptation</td>\n",
       "      <td>24</td>\n",
       "      <td>mckee_(cont'd)-adaptation</td>\n",
       "    </tr>\n",
       "    <tr>\n",
       "      <th>4</th>\n",
       "      <td>5</td>\n",
       "      <td>JIMMY</td>\n",
       "      <td>M</td>\n",
       "      <td>Romance</td>\n",
       "      <td>mulhollanddrive</td>\n",
       "      <td>43</td>\n",
       "      <td>jimmy-mulhollanddrive</td>\n",
       "    </tr>\n",
       "  </tbody>\n",
       "</table>\n",
       "</div>"
      ],
      "text/plain": [
       "   id            char gender    genre             title line_count  \\\n",
       "0   1           WILLY      M  Musical         sisteract         58   \n",
       "1   2           ATHOS      M   Action  manintheironmask        378   \n",
       "2   3        AUGUSTUS      M   Action   perfectcreature        222   \n",
       "3   4  MCKEE (cont'd)    NaN    Drama        adaptation         24   \n",
       "4   5           JIMMY      M  Romance   mulhollanddrive         43   \n",
       "\n",
       "                        pkey  \n",
       "0            willy-sisteract  \n",
       "1     athos-manintheironmask  \n",
       "2   augustus-perfectcreature  \n",
       "3  mckee_(cont'd)-adaptation  \n",
       "4      jimmy-mulhollanddrive  "
      ]
     },
     "execution_count": 18,
     "metadata": {},
     "output_type": "execute_result"
    }
   ],
   "source": [
    "df = pd.read_csv(\"random_sampling_genderized.csv.csv\", sep = ',')\n",
    "df.head()"
   ]
  },
  {
   "cell_type": "code",
   "execution_count": 19,
   "metadata": {},
   "outputs": [],
   "source": [
    "del df['id']"
   ]
  },
  {
   "cell_type": "code",
   "execution_count": 20,
   "metadata": {},
   "outputs": [
    {
     "data": {
      "text/plain": [
       "(2786, 6)"
      ]
     },
     "execution_count": 20,
     "metadata": {},
     "output_type": "execute_result"
    }
   ],
   "source": [
    "df.shape"
   ]
  },
  {
   "cell_type": "code",
   "execution_count": 21,
   "metadata": {
    "collapsed": true
   },
   "outputs": [],
   "source": [
    "df.dropna(inplace=True)"
   ]
  },
  {
   "cell_type": "code",
   "execution_count": 33,
   "metadata": {
    "collapsed": true
   },
   "outputs": [],
   "source": [
    "df['line_count'] = df['line_count'].map(lambda x: int(x))"
   ]
  },
  {
   "cell_type": "code",
   "execution_count": 34,
   "metadata": {},
   "outputs": [
    {
     "data": {
      "text/html": [
       "<div>\n",
       "<style>\n",
       "    .dataframe thead tr:only-child th {\n",
       "        text-align: right;\n",
       "    }\n",
       "\n",
       "    .dataframe thead th {\n",
       "        text-align: left;\n",
       "    }\n",
       "\n",
       "    .dataframe tbody tr th {\n",
       "        vertical-align: top;\n",
       "    }\n",
       "</style>\n",
       "<table border=\"1\" class=\"dataframe\">\n",
       "  <thead>\n",
       "    <tr style=\"text-align: right;\">\n",
       "      <th></th>\n",
       "      <th>char</th>\n",
       "      <th>gender</th>\n",
       "      <th>genre</th>\n",
       "      <th>title</th>\n",
       "      <th>line_count</th>\n",
       "      <th>pkey</th>\n",
       "    </tr>\n",
       "  </thead>\n",
       "  <tbody>\n",
       "    <tr>\n",
       "      <th>0</th>\n",
       "      <td>WILLY</td>\n",
       "      <td>M</td>\n",
       "      <td>Musical</td>\n",
       "      <td>sisteract</td>\n",
       "      <td>58</td>\n",
       "      <td>willy-sisteract</td>\n",
       "    </tr>\n",
       "    <tr>\n",
       "      <th>1</th>\n",
       "      <td>ATHOS</td>\n",
       "      <td>M</td>\n",
       "      <td>Action</td>\n",
       "      <td>manintheironmask</td>\n",
       "      <td>378</td>\n",
       "      <td>athos-manintheironmask</td>\n",
       "    </tr>\n",
       "    <tr>\n",
       "      <th>2</th>\n",
       "      <td>AUGUSTUS</td>\n",
       "      <td>M</td>\n",
       "      <td>Action</td>\n",
       "      <td>perfectcreature</td>\n",
       "      <td>222</td>\n",
       "      <td>augustus-perfectcreature</td>\n",
       "    </tr>\n",
       "    <tr>\n",
       "      <th>4</th>\n",
       "      <td>JIMMY</td>\n",
       "      <td>M</td>\n",
       "      <td>Romance</td>\n",
       "      <td>mulhollanddrive</td>\n",
       "      <td>43</td>\n",
       "      <td>jimmy-mulhollanddrive</td>\n",
       "    </tr>\n",
       "    <tr>\n",
       "      <th>5</th>\n",
       "      <td>DENNIS</td>\n",
       "      <td>M</td>\n",
       "      <td>Drama</td>\n",
       "      <td>backdraft</td>\n",
       "      <td>42</td>\n",
       "      <td>dennis-backdraft</td>\n",
       "    </tr>\n",
       "  </tbody>\n",
       "</table>\n",
       "</div>"
      ],
      "text/plain": [
       "       char gender    genre             title  line_count  \\\n",
       "0     WILLY      M  Musical         sisteract          58   \n",
       "1     ATHOS      M   Action  manintheironmask         378   \n",
       "2  AUGUSTUS      M   Action   perfectcreature         222   \n",
       "4     JIMMY      M  Romance   mulhollanddrive          43   \n",
       "5    DENNIS      M    Drama         backdraft          42   \n",
       "\n",
       "                       pkey  \n",
       "0           willy-sisteract  \n",
       "1    athos-manintheironmask  \n",
       "2  augustus-perfectcreature  \n",
       "4     jimmy-mulhollanddrive  \n",
       "5          dennis-backdraft  "
      ]
     },
     "execution_count": 34,
     "metadata": {},
     "output_type": "execute_result"
    }
   ],
   "source": [
    "df.head()"
   ]
  },
  {
   "cell_type": "code",
   "execution_count": 35,
   "metadata": {},
   "outputs": [
    {
     "data": {
      "text/plain": [
       "(1150, 6)"
      ]
     },
     "execution_count": 35,
     "metadata": {},
     "output_type": "execute_result"
    }
   ],
   "source": [
    "df.shape"
   ]
  },
  {
   "cell_type": "markdown",
   "metadata": {},
   "source": [
    "##### Part 1: Summary Statistics"
   ]
  },
  {
   "cell_type": "code",
   "execution_count": 36,
   "metadata": {},
   "outputs": [
    {
     "data": {
      "text/plain": [
       "M    758\n",
       "F    392\n",
       "Name: gender, dtype: int64"
      ]
     },
     "execution_count": 36,
     "metadata": {},
     "output_type": "execute_result"
    }
   ],
   "source": [
    "df.gender.value_counts()"
   ]
  },
  {
   "cell_type": "code",
   "execution_count": 81,
   "metadata": {},
   "outputs": [
    {
     "name": "stdout",
     "output_type": "stream",
     "text": [
      "Male line count average: 162.98944591\n",
      "Male line count median: 70.0\n",
      "Male line count standard deviation: 269.880725931\n",
      "Male line count variance: 72835.6062293\n",
      "Male line count minimum: 21\n",
      "Male line count maximum: 2936\n",
      "Female line count average: 142.086734694\n",
      "Female line count median: 64.0\n",
      "Female line count standard deviation: 207.077700498\n",
      "Female line count variance: 42881.1740435\n",
      "Female line count minimum: 21\n",
      "Female line count maximum: 1610\n"
     ]
    }
   ],
   "source": [
    "s_male = df[df['gender'] == \"M\"]['line_count'].std()\n",
    "s_female = df[df['gender'] == \"F\"]['line_count'].std()\n",
    "a_male = df[df['gender'] == \"M\"]['line_count'].mean()\n",
    "a_female = df[df['gender'] == \"F\"]['line_count'].mean()\n",
    "m_male =df[df['gender'] == \"M\"]['line_count'].median()\n",
    "m_female =df[df['gender'] == \"F\"]['line_count'].median()\n",
    "v_male = df[df['gender'] == \"M\"]['line_count'].var()\n",
    "v_female = df[df['gender'] == \"F\"]['line_count'].var()\n",
    "min_female = df[df['gender'] == \"F\"]['line_count'].min()\n",
    "max_female = df[df['gender'] == \"F\"]['line_count'].max()\n",
    "min_male = df[df['gender'] == \"M\"]['line_count'].min()\n",
    "max_male = df[df['gender'] == \"M\"]['line_count'].max()\n",
    "print \"Male line count average:\", a_male\n",
    "print \"Male line count median:\", m_male\n",
    "print \"Male line count standard deviation:\", s_male\n",
    "print \"Male line count variance:\", v_male\n",
    "print 'Male line count minimum:', min_male\n",
    "print 'Male line count maximum:', max_male\n",
    "print \"Female line count average:\", a_female\n",
    "print \"Female line count median:\", m_female\n",
    "print \"Female line count standard deviation:\", s_female\n",
    "print \"Female line count variance:\", v_female\n",
    "print 'Female line count minimum:', min_female\n",
    "print 'Female line count maximum:', max_female\n"
   ]
  },
  {
   "cell_type": "markdown",
   "metadata": {},
   "source": [
    "This data was sampled randomly using `np.random` from a very large dataset, so the law of large numbers apply and this dataset is representative of the population.  Already we can see that the female characters' line data is dissimilar from the male characters'.  The frequency shows that we have nearly twice as many male characters than female characters.  The average line count for males and females are similar, but the median and standard deviations are not, indicating there is skew in our dataset.  Our next step would be to visualized our data."
   ]
  },
  {
   "cell_type": "markdown",
   "metadata": {},
   "source": [
    "##### Part 2: Data Visualization "
   ]
  },
  {
   "cell_type": "code",
   "execution_count": 80,
   "metadata": {},
   "outputs": [
    {
     "data": {
      "text/plain": [
       "[]"
      ]
     },
     "execution_count": 80,
     "metadata": {},
     "output_type": "execute_result"
    },
    {
     "data": {
      "image/png": "[encoded data removed]",
      "text/plain": [
       "<matplotlib.figure.Figure at 0x1a0b1c5110>"
      ]
     },
     "metadata": {},
     "output_type": "display_data"
    }
   ],
   "source": [
    "sns.set(style='darkgrid', palette='muted', color_codes=True)\n",
    "f, axes = plt.subplots(1,1, figsize=(12,8))\n",
    "plt.title(\"Line Count Histogram by Gender\",fontsize=16)\n",
    "sns.despine = True\n",
    "sns.distplot(df[df['gender'] == 'M']['line_count'], color='purple', label = 'Male')\n",
    "sns.distplot(df[df['gender'] == 'F']['line_count'], color='green', label = 'Female')\n",
    "plt.setp(axes, yticks=[])\n",
    "plt.legend()\n",
    "plt.plot()"
   ]
  },
  {
   "cell_type": "markdown",
   "metadata": {},
   "source": [
    "The skew on this dataset shows a lognormal or power law distribution.  To work further with this data in a linear fashion, we will have to convert it to a log-log space."
   ]
  },
  {
   "cell_type": "code",
   "execution_count": 102,
   "metadata": {},
   "outputs": [],
   "source": [
    "df['log_line_count'] = df['line_count'].map(lambda x: math.log(x))"
   ]
  },
  {
   "cell_type": "code",
   "execution_count": 106,
   "metadata": {},
   "outputs": [
    {
     "data": {
      "text/plain": [
       "[]"
      ]
     },
     "execution_count": 106,
     "metadata": {},
     "output_type": "execute_result"
    },
    {
     "data": {
      "image/png": "[encoded data removed]",
      "text/plain": [
       "<matplotlib.figure.Figure at 0x1a0ad64750>"
      ]
     },
     "metadata": {},
     "output_type": "display_data"
    }
   ],
   "source": [
    "sns.set(style='darkgrid', palette='muted', color_codes=True)\n",
    "f, axes = plt.subplots(1,1, figsize=(12,8))\n",
    "plt.title(\"Line Count Histogram by Gender, Logspace\",fontsize=16)\n",
    "sns.despine = True\n",
    "sns.distplot(df[df['gender'] == 'M']['log_line_count'], color='purple', hist=True, label = 'Male')\n",
    "sns.distplot(df[df['gender'] == 'F']['log_line_count'], color='green', hist=True, label = 'Female')\n",
    "plt.setp(axes, yticks=[])\n",
    "plt.legend()\n",
    "plt.plot()"
   ]
  },
  {
   "cell_type": "markdown",
   "metadata": {},
   "source": [
    "Even using a logspace, we do not have a normal distribution.  It does not seem that we will be able to build a linear model for the line counts.  One thing to note is the peak for female roles is greater in count but fewer in words when compared to men.  That indicates that women are more likely to have smaller roles than men.\n",
    "\n",
    "Next, let us look at the data by genre, to see if there is much of a difference."
   ]
  },
  {
   "cell_type": "code",
   "execution_count": 133,
   "metadata": {},
   "outputs": [
    {
     "data": {
      "text/plain": [
       "Drama        248\n",
       "Thriller     159\n",
       "Comedy       156\n",
       "Action       105\n",
       "Crime         96\n",
       "Romance       85\n",
       "Adventure     56\n",
       "Sci-Fi        47\n",
       "Mystery       47\n",
       "Fantasy       41\n",
       "Horror        41\n",
       "Family        18\n",
       "War           15\n",
       "Animation     12\n",
       "Musical       11\n",
       "Western        8\n",
       "Music          2\n",
       "Biography      2\n",
       "Film-Noir      1\n",
       "Name: genre, dtype: int64"
      ]
     },
     "execution_count": 133,
     "metadata": {},
     "output_type": "execute_result"
    }
   ],
   "source": [
    "df['genre'].value_counts()"
   ]
  },
  {
   "cell_type": "code",
   "execution_count": 135,
   "metadata": {},
   "outputs": [
    {
     "data": {
      "text/plain": [
       "[]"
      ]
     },
     "execution_count": 135,
     "metadata": {},
     "output_type": "execute_result"
    },
    {
     "data": {
      "image/png": "[encoded data removed]",
      "text/plain": [
       "<matplotlib.figure.Figure at 0x1a0aad7c90>"
      ]
     },
     "metadata": {},
     "output_type": "display_data"
    }
   ],
   "source": [
    "sns.set(style='darkgrid', palette='muted', color_codes=True)\n",
    "f, axes = plt.subplots(1,1, figsize=(12,8))\n",
    "plt.title(\"Line Count Distributions by Gender and Movie Genre\",fontsize=16)\n",
    "sns.despine = True\n",
    "sns.violinplot(data = df, x =\"genre\", y=\"line_count\", hue=\"gender\",split=True)\n",
    "plt.xticks(rotation=45)\n",
    "plt.setp(axes, yticks=a)\n",
    "plt.legend()\n",
    "plt.plot()"
   ]
  },
  {
   "cell_type": "markdown",
   "metadata": {},
   "source": [
    "While the line count distributions were not normal when looking at the sample space, the distributions for several of the genres pivoted by gender do look normal.  For instace, Mystery, Romance, Fantasy and Family all appear to have nearly-normal distributions.  We will not attempt inference by genre at this time, as the data is too sparse to make a meaningful analysis."
   ]
  },
  {
   "cell_type": "markdown",
   "metadata": {},
   "source": [
    "##### Part 3: Statistical Inference"
   ]
  },
  {
   "cell_type": "markdown",
   "metadata": {},
   "source": [
    "_Un-altered data_\n",
    "\n",
    "Our data is not normally distributed, which can hinder our analysis.  However, we have more than 30 datapoints and our data was selected in a truly random fashion.  Therefore we can run a Z-test on our data and report back the analysis.\n",
    "\n",
    "_Hypotheses_\n",
    "\n",
    "$H_{0} = $ The mean count of lines spoken by men and women is the same.\n",
    "\n",
    "$H_{A} = $ There is a difference between the mean line count of men and women in movies.\n",
    "\n",
    "\n",
    "_Required Calculations_\n",
    "\n",
    "$\\alpha = 0.05$\n",
    "\n",
    "$Z = \\frac{avg_{f} - avg_{m}}{stdev_{m}}$"
   ]
  },
  {
   "cell_type": "code",
   "execution_count": 144,
   "metadata": {},
   "outputs": [],
   "source": [
    "alpha = 0.05\n",
    "\n",
    "### recall the mean and std dev from section 1 are a_[gender] and s_[gender]\n",
    " \n",
    "Z = ((a_female  - a_male)*1.0)/s_male"
   ]
  },
  {
   "cell_type": "code",
   "execution_count": 145,
   "metadata": {},
   "outputs": [
    {
     "data": {
      "text/plain": [
       "-0.07745166367205664"
      ]
     },
     "execution_count": 145,
     "metadata": {},
     "output_type": "execute_result"
    }
   ],
   "source": [
    "Z"
   ]
  },
  {
   "cell_type": "markdown",
   "metadata": {},
   "source": [
    "In words, our Z score tells us the mean female line count is 0.077 standard deviations below the median of the male line count.  If we were to plot this on a normal distribution, we would not have met our alpha test.  Therefore, statistical inferrence tells us that we cannot determine from the line count alone that males have more serious roles than females in movies and thus we have failed to reject the null hypothesis."
   ]
  },
  {
   "cell_type": "markdown",
   "metadata": {},
   "source": [
    "_Transformed Data_\n",
    "\n",
    "We did see a small improvement in our data's distribution when we used a log-spaced transformation.  We should run a Z test on this as well to see if there is a difference in the logspace.\n",
    "\n",
    "_Hypotheses_\n",
    "\n",
    "$H_{0} = $ The mean count of log of lines spoken by men and women is the same.\n",
    "\n",
    "$H_{A} = $ There is a difference between the log of line count of men and women in movies.\n",
    "\n",
    "\n",
    "_Required Calculations_\n",
    "\n",
    "$\\alpha = 0.05$\n",
    "\n",
    "$Z = \\frac{avg_{f-log} - avg_{m-log}}{stdev_{m-log}}$"
   ]
  },
  {
   "cell_type": "code",
   "execution_count": 147,
   "metadata": {
    "collapsed": true
   },
   "outputs": [],
   "source": [
    "alpha = 0.05\n",
    "\n",
    "a_femalelog = df[df['gender'] == \"F\"]['log_line_count'].mean()\n",
    "a_malelog = df[df['gender'] == \"M\"]['log_line_count'].mean()\n",
    "s_malelog = df[df['gender'] == \"M\"]['log_line_count'].std()\n",
    " \n",
    "Zlog = ((a_femalelog  - a_malelog)*1.0)/s_malelog"
   ]
  },
  {
   "cell_type": "code",
   "execution_count": 148,
   "metadata": {},
   "outputs": [
    {
     "data": {
      "text/plain": [
       "-0.07406174860500307"
      ]
     },
     "execution_count": 148,
     "metadata": {},
     "output_type": "execute_result"
    }
   ],
   "source": [
    "Zlog"
   ]
  },
  {
   "cell_type": "markdown",
   "metadata": {},
   "source": [
    "It appears that our Z-score fares no better in logspace."
   ]
  },
  {
   "cell_type": "markdown",
   "metadata": {},
   "source": [
    "#####  Part 4: Limitations"
   ]
  },
  {
   "cell_type": "markdown",
   "metadata": {},
   "source": [
    "Our sampling method relied on only one draw from our population due to time constraints.  We had to manually assign genders to each character, and we have over 20,000 characters in our dataset.  We attempted to find a set that included the gender for each character in the IMDB and IMSDB that we could use to enrich our script set, but to no avail.  Our statistical inference and therefore and linear model that we could build upon this set was thus limited.  Our next steps will include: classifying more data, using NLP models such as bag-of-words to analyze the complexity of the actual words used by the characters in their moves, and implementing deep learning techniques such as CNN to gain further insight."
   ]
  },
  {
   "cell_type": "markdown",
   "metadata": {},
   "source": [
    "##### Part 5: Logistic Regression Model"
   ]
  },
  {
   "cell_type": "code",
   "execution_count": 189,
   "metadata": {},
   "outputs": [
    {
     "name": "stderr",
     "output_type": "stream",
     "text": [
      "/anaconda2/lib/python2.7/site-packages/ipykernel_launcher.py:2: SettingWithCopyWarning: \n",
      "A value is trying to be set on a copy of a slice from a DataFrame.\n",
      "Try using .loc[row_indexer,col_indexer] = value instead\n",
      "\n",
      "See the caveats in the documentation: http://pandas.pydata.org/pandas-docs/stable/indexing.html#indexing-view-versus-copy\n",
      "  \n"
     ]
    }
   ],
   "source": [
    "parsed_df = df[['gender', 'log_line_count']]\n",
    "parsed_df['binarized_gender'] = parsed_df['gender'].map(lambda x: 0 if x=='M' else 1)\n",
    "del parsed_df['gender']"
   ]
  },
  {
   "cell_type": "code",
   "execution_count": 190,
   "metadata": {},
   "outputs": [],
   "source": [
    "gen_X_train = np.array(parsed_df['log_line_count'][:-575]).reshape(-1, 1)\n",
    "gen_X_test = np.array(parsed_df['log_line_count'][-575:]).reshape(-1, 1)\n",
    "gen_y_train = np.array(parsed_df['binarized_gender'][:-575])\n",
    "gen_y_test = np.array(parsed_df['binarized_gender'][-575:])"
   ]
  },
  {
   "cell_type": "code",
   "execution_count": 191,
   "metadata": {},
   "outputs": [
    {
     "data": {
      "text/plain": [
       "LogisticRegression(C=1.0, class_weight=None, dual=False, fit_intercept=True,\n",
       "          intercept_scaling=1, max_iter=100, multi_class='ovr', n_jobs=1,\n",
       "          penalty='l2', random_state=None, solver='liblinear', tol=0.0001,\n",
       "          verbose=0, warm_start=False)"
      ]
     },
     "execution_count": 191,
     "metadata": {},
     "output_type": "execute_result"
    }
   ],
   "source": [
    "regr = LR()\n",
    "regr.fit(gen_X_train, gen_y_train)"
   ]
  },
  {
   "cell_type": "code",
   "execution_count": 192,
   "metadata": {},
   "outputs": [],
   "source": [
    "y_pred = regr.predict(gen_X_test)"
   ]
  },
  {
   "cell_type": "code",
   "execution_count": 193,
   "metadata": {},
   "outputs": [
    {
     "data": {
      "text/plain": [
       "array([0, 0, 0, 0, 0, 0, 0, 0, 0, 0, 0, 0, 0, 0, 0])"
      ]
     },
     "execution_count": 193,
     "metadata": {},
     "output_type": "execute_result"
    }
   ],
   "source": [
    "y_pred[:15]"
   ]
  },
  {
   "cell_type": "code",
   "execution_count": 194,
   "metadata": {},
   "outputs": [
    {
     "data": {
      "text/plain": [
       "array([1, 1, 0, 1, 0, 0, 0, 0, 1, 1, 1, 0, 0, 1, 1])"
      ]
     },
     "execution_count": 194,
     "metadata": {},
     "output_type": "execute_result"
    }
   ],
   "source": [
    "gen_y_test[:15]"
   ]
  },
  {
   "cell_type": "code",
   "execution_count": 195,
   "metadata": {},
   "outputs": [
    {
     "data": {
      "text/plain": [
       "0.32347826086956522"
      ]
     },
     "execution_count": 195,
     "metadata": {},
     "output_type": "execute_result"
    }
   ],
   "source": [
    "mean_squared_error(gen_y_test, y_pred)"
   ]
  },
  {
   "cell_type": "code",
   "execution_count": 196,
   "metadata": {},
   "outputs": [
    {
     "data": {
      "text/plain": [
       "-0.47814910025706925"
      ]
     },
     "execution_count": 196,
     "metadata": {},
     "output_type": "execute_result"
    }
   ],
   "source": [
    "r2_score(gen_y_test, y_pred)"
   ]
  },
  {
   "cell_type": "code",
   "execution_count": 197,
   "metadata": {},
   "outputs": [
    {
     "data": {
      "text/plain": [
       "array([[389,   0],\n",
       "       [186,   0]])"
      ]
     },
     "execution_count": 197,
     "metadata": {},
     "output_type": "execute_result"
    }
   ],
   "source": [
    "confusion_matrix(gen_y_test, y_pred)"
   ]
  },
  {
   "cell_type": "markdown",
   "metadata": {},
   "source": [
    "As expected, a Logistic Regression model fared very poorly against this data."
   ]
  },
  {
   "cell_type": "code",
   "execution_count": null,
   "metadata": {
    "collapsed": true
   },
   "outputs": [],
   "source": []
  }
 ],
 "metadata": {
  "kernelspec": {
   "display_name": "Python 2",
   "language": "python",
   "name": "python2"
  },
  "language_info": {
   "codemirror_mode": {
    "name": "ipython",
    "version": 2
   },
   "file_extension": ".py",
   "mimetype": "text/x-python",
   "name": "python",
   "nbconvert_exporter": "python",
   "pygments_lexer": "ipython2",
   "version": "2.7.13"
  }
 },
 "nbformat": 4,
 "nbformat_minor": 2
}
