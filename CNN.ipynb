{
 "cells": [
  {
   "cell_type": "code",
   "execution_count": 1,
   "metadata": {
    "collapsed": true
   },
   "outputs": [],
   "source": [
    "import numpy as np\n",
    "import pandas as pd\n",
    "import re\n",
    "import glob #this makes a list of all the files in a directory\n",
    "from pandasql import sqldf\n",
    "pysqldf = lambda q: sqldf(q, globals())\n",
    "from sklearn.model_selection import train_test_split, cross_val_score\n",
    "from sklearn.utils import shuffle\n",
    "from sklearn.linear_model import LogisticRegression\n",
    "from sklearn.naive_bayes import BernoulliNB\n",
    "from sklearn.metrics import confusion_matrix\n",
    "from sklearn import metrics\n",
    "from sklearn.metrics import classification_report\n",
    "from sklearn.feature_extraction.text import *"
   ]
  },
  {
   "cell_type": "code",
   "execution_count": 2,
   "metadata": {
    "collapsed": false
   },
   "outputs": [
    {
     "data": {
      "text/html": [
       "<div>\n",
       "<table border=\"1\" class=\"dataframe\">\n",
       "  <thead>\n",
       "    <tr style=\"text-align: right;\">\n",
       "      <th></th>\n",
       "      <th>Char</th>\n",
       "      <th>Title</th>\n",
       "      <th>Genre</th>\n",
       "      <th>pkey</th>\n",
       "      <th>LineID</th>\n",
       "      <th>Speech</th>\n",
       "      <th>Line</th>\n",
       "      <th>linelength</th>\n",
       "      <th>M</th>\n",
       "    </tr>\n",
       "  </thead>\n",
       "  <tbody>\n",
       "    <tr>\n",
       "      <th>0</th>\n",
       "      <td>A.D.</td>\n",
       "      <td>battleofshakerheightsthe</td>\n",
       "      <td>Romance</td>\n",
       "      <td>a.d.-battleofshakerheightsthe</td>\n",
       "      <td>739</td>\n",
       "      <td>[Okay, everyone. We're going to start, positio...</td>\n",
       "      <td>Okay, everyone. We're going to start positioni...</td>\n",
       "      <td>239</td>\n",
       "      <td>0</td>\n",
       "    </tr>\n",
       "    <tr>\n",
       "      <th>1</th>\n",
       "      <td>A.D.</td>\n",
       "      <td>battleofshakerheightsthe</td>\n",
       "      <td>Romance</td>\n",
       "      <td>a.d.-battleofshakerheightsthe</td>\n",
       "      <td>741</td>\n",
       "      <td>[Great. We'd like to use it. Can you, drive it...</td>\n",
       "      <td>Great. We'd like to use it. Can you drive it b...</td>\n",
       "      <td>72</td>\n",
       "      <td>0</td>\n",
       "    </tr>\n",
       "    <tr>\n",
       "      <th>2</th>\n",
       "      <td>A.D.</td>\n",
       "      <td>battleofshakerheightsthe</td>\n",
       "      <td>Romance</td>\n",
       "      <td>a.d.-battleofshakerheightsthe</td>\n",
       "      <td>744</td>\n",
       "      <td>[Don't know. We've got enough people., It does...</td>\n",
       "      <td>Don't know. We've got enough people. It doesn'...</td>\n",
       "      <td>55</td>\n",
       "      <td>0</td>\n",
       "    </tr>\n",
       "    <tr>\n",
       "      <th>3</th>\n",
       "      <td>A.D.</td>\n",
       "      <td>battleofshakerheightsthe</td>\n",
       "      <td>Romance</td>\n",
       "      <td>a.d.-battleofshakerheightsthe</td>\n",
       "      <td>746</td>\n",
       "      <td>[(yells), Okay people. Listen to my voice., Fr...</td>\n",
       "      <td>(yells) Okay people. Listen to my voice. From ...</td>\n",
       "      <td>103</td>\n",
       "      <td>0</td>\n",
       "    </tr>\n",
       "    <tr>\n",
       "      <th>4</th>\n",
       "      <td>A.D.</td>\n",
       "      <td>battleofshakerheightsthe</td>\n",
       "      <td>Romance</td>\n",
       "      <td>a.d.-battleofshakerheightsthe</td>\n",
       "      <td>763</td>\n",
       "      <td>[Standby for rehearsal. Cue the, explosion.]</td>\n",
       "      <td>Standby for rehearsal. Cue the explosion.</td>\n",
       "      <td>41</td>\n",
       "      <td>0</td>\n",
       "    </tr>\n",
       "  </tbody>\n",
       "</table>\n",
       "</div>"
      ],
      "text/plain": [
       "   Char                     Title    Genre                           pkey  \\\n",
       "0  A.D.  battleofshakerheightsthe  Romance  a.d.-battleofshakerheightsthe   \n",
       "1  A.D.  battleofshakerheightsthe  Romance  a.d.-battleofshakerheightsthe   \n",
       "2  A.D.  battleofshakerheightsthe  Romance  a.d.-battleofshakerheightsthe   \n",
       "3  A.D.  battleofshakerheightsthe  Romance  a.d.-battleofshakerheightsthe   \n",
       "4  A.D.  battleofshakerheightsthe  Romance  a.d.-battleofshakerheightsthe   \n",
       "\n",
       "   LineID                                             Speech  \\\n",
       "0     739  [Okay, everyone. We're going to start, positio...   \n",
       "1     741  [Great. We'd like to use it. Can you, drive it...   \n",
       "2     744  [Don't know. We've got enough people., It does...   \n",
       "3     746  [(yells), Okay people. Listen to my voice., Fr...   \n",
       "4     763       [Standby for rehearsal. Cue the, explosion.]   \n",
       "\n",
       "                                                Line  linelength  M  \n",
       "0  Okay, everyone. We're going to start positioni...         239  0  \n",
       "1  Great. We'd like to use it. Can you drive it b...          72  0  \n",
       "2  Don't know. We've got enough people. It doesn'...          55  0  \n",
       "3  (yells) Okay people. Listen to my voice. From ...         103  0  \n",
       "4          Standby for rehearsal. Cue the explosion.          41  0  "
      ]
     },
     "execution_count": 2,
     "metadata": {},
     "output_type": "execute_result"
    }
   ],
   "source": [
    "with_gender = pd.read_pickle(\"WithGenderDF2.p\")\n",
    "with_gender['gender'].value_counts()\n",
    "line_column=[]\n",
    "for i in with_gender.index:\n",
    "        line_column.append(' '.join(with_gender['Speech'][i]))\n",
    "with_gender['Line']=line_column\n",
    "\n",
    "with_gender['linelength']=with_gender['Line'].str.len()\n",
    "with_gender_dum = pd.get_dummies(with_gender['gender'])\n",
    "with_gender = pd.concat([with_gender, with_gender_dum],axis=1).drop(['F','gender'],1)\n",
    "with_gender.head()"
   ]
  },
  {
   "cell_type": "code",
   "execution_count": 4,
   "metadata": {
    "collapsed": false
   },
   "outputs": [
    {
     "name": "stdout",
     "output_type": "stream",
     "text": [
      "(173692, 9)\n",
      "(21711, 9)\n",
      "(21712, 9)\n"
     ]
    }
   ],
   "source": [
    "with_gender_shuffle = shuffle(with_gender, random_state = 5)\n",
    "\n",
    "\n",
    "# Randomly split into training and dev with scikit-learn helper function\n",
    "train, test = train_test_split(with_gender_shuffle, test_size=0.2, random_state=100)\n",
    "dev, test = train_test_split(test, test_size=0.5, random_state=200)\n",
    "\n",
    "print train.shape\n",
    "print dev.shape\n",
    "print test.shape"
   ]
  },
  {
   "cell_type": "code",
   "execution_count": 5,
   "metadata": {
    "collapsed": false
   },
   "outputs": [
    {
     "data": {
      "text/html": [
       "<div>\n",
       "<table border=\"1\" class=\"dataframe\">\n",
       "  <thead>\n",
       "    <tr style=\"text-align: right;\">\n",
       "      <th></th>\n",
       "      <th>Char</th>\n",
       "      <th>Title</th>\n",
       "      <th>Genre</th>\n",
       "      <th>pkey</th>\n",
       "      <th>Line</th>\n",
       "      <th>linelength</th>\n",
       "    </tr>\n",
       "  </thead>\n",
       "  <tbody>\n",
       "    <tr>\n",
       "      <th>53085</th>\n",
       "      <td>MINNY</td>\n",
       "      <td>helpthe</td>\n",
       "      <td>Drama</td>\n",
       "      <td>minny-helpthe</td>\n",
       "      <td>I hear you...</td>\n",
       "      <td>13</td>\n",
       "    </tr>\n",
       "    <tr>\n",
       "      <th>193571</th>\n",
       "      <td>SCARECROW</td>\n",
       "      <td>wizardofozthe</td>\n",
       "      <td>Fantasy</td>\n",
       "      <td>scarecrow-wizardofozthe</td>\n",
       "      <td>To Oz?</td>\n",
       "      <td>6</td>\n",
       "    </tr>\n",
       "    <tr>\n",
       "      <th>56895</th>\n",
       "      <td>NINA</td>\n",
       "      <td>stuntmanthe</td>\n",
       "      <td>Adventure</td>\n",
       "      <td>nina-stuntmanthe</td>\n",
       "      <td>(gasps) Oh, my God! It's terrifying! You can't...</td>\n",
       "      <td>97</td>\n",
       "    </tr>\n",
       "    <tr>\n",
       "      <th>140093</th>\n",
       "      <td>JIMMY</td>\n",
       "      <td>saltonseathe</td>\n",
       "      <td>Crime</td>\n",
       "      <td>jimmy-saltonseathe</td>\n",
       "      <td>Twelve</td>\n",
       "      <td>6</td>\n",
       "    </tr>\n",
       "    <tr>\n",
       "      <th>2715</th>\n",
       "      <td>AMANDA</td>\n",
       "      <td>honeydripper</td>\n",
       "      <td>Musical</td>\n",
       "      <td>amanda-honeydripper</td>\n",
       "      <td>Maybe some other day. Delilah isn't surprised ...</td>\n",
       "      <td>62</td>\n",
       "    </tr>\n",
       "  </tbody>\n",
       "</table>\n",
       "</div>"
      ],
      "text/plain": [
       "             Char          Title      Genre                     pkey  \\\n",
       "53085       MINNY        helpthe      Drama            minny-helpthe   \n",
       "193571  SCARECROW  wizardofozthe    Fantasy  scarecrow-wizardofozthe   \n",
       "56895        NINA    stuntmanthe  Adventure         nina-stuntmanthe   \n",
       "140093      JIMMY   saltonseathe      Crime       jimmy-saltonseathe   \n",
       "2715       AMANDA   honeydripper    Musical      amanda-honeydripper   \n",
       "\n",
       "                                                     Line  linelength  \n",
       "53085                                       I hear you...          13  \n",
       "193571                                             To Oz?           6  \n",
       "56895   (gasps) Oh, my God! It's terrifying! You can't...          97  \n",
       "140093                                             Twelve           6  \n",
       "2715    Maybe some other day. Delilah isn't surprised ...          62  "
      ]
     },
     "execution_count": 5,
     "metadata": {},
     "output_type": "execute_result"
    }
   ],
   "source": [
    "train_y, dev_y, test_y = train.M, dev.M, test.M\n",
    "train_X = train.drop(['M','Speech','LineID'],1)\n",
    "dev_X = dev.drop(['M','Speech','LineID'],1)\n",
    "test_X = test.drop(['M','Speech','LineID'],1)\n",
    "dev_X.head()"
   ]
  },
  {
   "cell_type": "code",
   "execution_count": 3,
   "metadata": {
    "collapsed": false
   },
   "outputs": [],
   "source": [
    "import gensim"
   ]
  },
  {
   "cell_type": "code",
   "execution_count": 11,
   "metadata": {
    "collapsed": false
   },
   "outputs": [
    {
     "data": {
      "text/html": [
       "<div>\n",
       "<table border=\"1\" class=\"dataframe\">\n",
       "  <thead>\n",
       "    <tr style=\"text-align: right;\">\n",
       "      <th></th>\n",
       "      <th>Char</th>\n",
       "      <th>Title</th>\n",
       "      <th>Genre</th>\n",
       "      <th>pkey</th>\n",
       "      <th>LineID</th>\n",
       "      <th>Speech</th>\n",
       "      <th>Line</th>\n",
       "      <th>linelength</th>\n",
       "      <th>M</th>\n",
       "      <th>words</th>\n",
       "    </tr>\n",
       "  </thead>\n",
       "  <tbody>\n",
       "    <tr>\n",
       "      <th>0</th>\n",
       "      <td>A.D.</td>\n",
       "      <td>battleofshakerheightsthe</td>\n",
       "      <td>Romance</td>\n",
       "      <td>a.d.-battleofshakerheightsthe</td>\n",
       "      <td>739</td>\n",
       "      <td>[Okay, everyone. We're going to start, positio...</td>\n",
       "      <td>Okay, everyone. We're going to start positioni...</td>\n",
       "      <td>239</td>\n",
       "      <td>0</td>\n",
       "      <td>[Okay,, everyone., We're, going, to, start, po...</td>\n",
       "    </tr>\n",
       "    <tr>\n",
       "      <th>1</th>\n",
       "      <td>A.D.</td>\n",
       "      <td>battleofshakerheightsthe</td>\n",
       "      <td>Romance</td>\n",
       "      <td>a.d.-battleofshakerheightsthe</td>\n",
       "      <td>741</td>\n",
       "      <td>[Great. We'd like to use it. Can you, drive it...</td>\n",
       "      <td>Great. We'd like to use it. Can you drive it b...</td>\n",
       "      <td>72</td>\n",
       "      <td>0</td>\n",
       "      <td>[Great., We'd, like, to, use, it., Can, you, d...</td>\n",
       "    </tr>\n",
       "    <tr>\n",
       "      <th>2</th>\n",
       "      <td>A.D.</td>\n",
       "      <td>battleofshakerheightsthe</td>\n",
       "      <td>Romance</td>\n",
       "      <td>a.d.-battleofshakerheightsthe</td>\n",
       "      <td>744</td>\n",
       "      <td>[Don't know. We've got enough people., It does...</td>\n",
       "      <td>Don't know. We've got enough people. It doesn'...</td>\n",
       "      <td>55</td>\n",
       "      <td>0</td>\n",
       "      <td>[Don't, know., We've, got, enough, people., It...</td>\n",
       "    </tr>\n",
       "    <tr>\n",
       "      <th>3</th>\n",
       "      <td>A.D.</td>\n",
       "      <td>battleofshakerheightsthe</td>\n",
       "      <td>Romance</td>\n",
       "      <td>a.d.-battleofshakerheightsthe</td>\n",
       "      <td>746</td>\n",
       "      <td>[(yells), Okay people. Listen to my voice., Fr...</td>\n",
       "      <td>(yells) Okay people. Listen to my voice. From ...</td>\n",
       "      <td>103</td>\n",
       "      <td>0</td>\n",
       "      <td>[(yells), Okay, people., Listen, to, my, voice...</td>\n",
       "    </tr>\n",
       "    <tr>\n",
       "      <th>4</th>\n",
       "      <td>A.D.</td>\n",
       "      <td>battleofshakerheightsthe</td>\n",
       "      <td>Romance</td>\n",
       "      <td>a.d.-battleofshakerheightsthe</td>\n",
       "      <td>763</td>\n",
       "      <td>[Standby for rehearsal. Cue the, explosion.]</td>\n",
       "      <td>Standby for rehearsal. Cue the explosion.</td>\n",
       "      <td>41</td>\n",
       "      <td>0</td>\n",
       "      <td>[Standby, for, rehearsal., Cue, the, explosion.]</td>\n",
       "    </tr>\n",
       "  </tbody>\n",
       "</table>\n",
       "</div>"
      ],
      "text/plain": [
       "   Char                     Title    Genre                           pkey  \\\n",
       "0  A.D.  battleofshakerheightsthe  Romance  a.d.-battleofshakerheightsthe   \n",
       "1  A.D.  battleofshakerheightsthe  Romance  a.d.-battleofshakerheightsthe   \n",
       "2  A.D.  battleofshakerheightsthe  Romance  a.d.-battleofshakerheightsthe   \n",
       "3  A.D.  battleofshakerheightsthe  Romance  a.d.-battleofshakerheightsthe   \n",
       "4  A.D.  battleofshakerheightsthe  Romance  a.d.-battleofshakerheightsthe   \n",
       "\n",
       "   LineID                                             Speech  \\\n",
       "0     739  [Okay, everyone. We're going to start, positio...   \n",
       "1     741  [Great. We'd like to use it. Can you, drive it...   \n",
       "2     744  [Don't know. We've got enough people., It does...   \n",
       "3     746  [(yells), Okay people. Listen to my voice., Fr...   \n",
       "4     763       [Standby for rehearsal. Cue the, explosion.]   \n",
       "\n",
       "                                                Line  linelength  M  \\\n",
       "0  Okay, everyone. We're going to start positioni...         239  0   \n",
       "1  Great. We'd like to use it. Can you drive it b...          72  0   \n",
       "2  Don't know. We've got enough people. It doesn'...          55  0   \n",
       "3  (yells) Okay people. Listen to my voice. From ...         103  0   \n",
       "4          Standby for rehearsal. Cue the explosion.          41  0   \n",
       "\n",
       "                                               words  \n",
       "0  [Okay,, everyone., We're, going, to, start, po...  \n",
       "1  [Great., We'd, like, to, use, it., Can, you, d...  \n",
       "2  [Don't, know., We've, got, enough, people., It...  \n",
       "3  [(yells), Okay, people., Listen, to, my, voice...  \n",
       "4   [Standby, for, rehearsal., Cue, the, explosion.]  "
      ]
     },
     "execution_count": 11,
     "metadata": {},
     "output_type": "execute_result"
    }
   ],
   "source": [
    "with_gender['words']=with_gender['Line'].str.split()\n",
    "with_gender.head()"
   ]
  },
  {
   "cell_type": "code",
   "execution_count": 12,
   "metadata": {
    "collapsed": false
   },
   "outputs": [],
   "source": [
    "#model = gensim.models.Word2Vec(with_gender['words'], min_count=1)\n",
    "#we already trained this, just load it below"
   ]
  },
  {
   "cell_type": "code",
   "execution_count": 13,
   "metadata": {
    "collapsed": false
   },
   "outputs": [
    {
     "name": "stdout",
     "output_type": "stream",
     "text": [
      "Word2Vec(vocab=149350, size=100, alpha=0.025)\n"
     ]
    }
   ],
   "source": [
    "print model"
   ]
  },
  {
   "cell_type": "code",
   "execution_count": 17,
   "metadata": {
    "collapsed": false
   },
   "outputs": [
    {
     "data": {
      "text/plain": [
       "[(u'yelling', 0.8742648363113403)]"
      ]
     },
     "execution_count": 17,
     "metadata": {},
     "output_type": "execute_result"
    }
   ],
   "source": [
    "model.most_similar(positive=['laughing'], topn=1)"
   ]
  },
  {
   "cell_type": "code",
   "execution_count": 18,
   "metadata": {
    "collapsed": false
   },
   "outputs": [
    {
     "data": {
      "text/plain": [
       "0.90410643365948007"
      ]
     },
     "execution_count": 18,
     "metadata": {},
     "output_type": "execute_result"
    }
   ],
   "source": [
    "model.similarity('woman', 'man')"
   ]
  },
  {
   "cell_type": "code",
   "execution_count": 19,
   "metadata": {
    "collapsed": false
   },
   "outputs": [
    {
     "data": {
      "text/plain": [
       "0.80817335060199391"
      ]
     },
     "execution_count": 19,
     "metadata": {},
     "output_type": "execute_result"
    }
   ],
   "source": [
    "model.similarity('king', 'queen')"
   ]
  },
  {
   "cell_type": "code",
   "execution_count": 35,
   "metadata": {
    "collapsed": false
   },
   "outputs": [],
   "source": [
    "#model.save('trainedwords')"
   ]
  },
  {
   "cell_type": "code",
   "execution_count": 36,
   "metadata": {
    "collapsed": true
   },
   "outputs": [],
   "source": [
    "model = gensim.models.Word2Vec.load('trainedwords')"
   ]
  },
  {
   "cell_type": "code",
   "execution_count": 37,
   "metadata": {
    "collapsed": false
   },
   "outputs": [
    {
     "data": {
      "text/plain": [
       "0.80817335060199391"
      ]
     },
     "execution_count": 37,
     "metadata": {},
     "output_type": "execute_result"
    }
   ],
   "source": [
    "model.similarity('king', 'queen')"
   ]
  },
  {
   "cell_type": "code",
   "execution_count": 40,
   "metadata": {
    "collapsed": true
   },
   "outputs": [],
   "source": [
    "word_vectors = model.wv\n",
    "del model"
   ]
  },
  {
   "cell_type": "code",
   "execution_count": 56,
   "metadata": {
    "collapsed": false
   },
   "outputs": [
    {
     "data": {
      "text/html": [
       "<div>\n",
       "<table border=\"1\" class=\"dataframe\">\n",
       "  <thead>\n",
       "    <tr style=\"text-align: right;\">\n",
       "      <th></th>\n",
       "      <th>Char</th>\n",
       "      <th>Title</th>\n",
       "      <th>Genre</th>\n",
       "      <th>pkey</th>\n",
       "      <th>LineID</th>\n",
       "      <th>Speech</th>\n",
       "      <th>Line</th>\n",
       "      <th>linelength</th>\n",
       "      <th>M</th>\n",
       "      <th>words</th>\n",
       "      <th>wordvecs</th>\n",
       "    </tr>\n",
       "  </thead>\n",
       "  <tbody>\n",
       "    <tr>\n",
       "      <th>0</th>\n",
       "      <td>A.D.</td>\n",
       "      <td>battleofshakerheightsthe</td>\n",
       "      <td>Romance</td>\n",
       "      <td>a.d.-battleofshakerheightsthe</td>\n",
       "      <td>739</td>\n",
       "      <td>[Okay, everyone. We're going to start, positio...</td>\n",
       "      <td>Okay, everyone. We're going to start positioni...</td>\n",
       "      <td>239</td>\n",
       "      <td>0</td>\n",
       "      <td>[Okay,, everyone., We're, going, to, start, po...</td>\n",
       "      <td>[[0.464266, 1.36037, -0.405199, -0.824685, -0....</td>\n",
       "    </tr>\n",
       "    <tr>\n",
       "      <th>1</th>\n",
       "      <td>A.D.</td>\n",
       "      <td>battleofshakerheightsthe</td>\n",
       "      <td>Romance</td>\n",
       "      <td>a.d.-battleofshakerheightsthe</td>\n",
       "      <td>741</td>\n",
       "      <td>[Great. We'd like to use it. Can you, drive it...</td>\n",
       "      <td>Great. We'd like to use it. Can you drive it b...</td>\n",
       "      <td>72</td>\n",
       "      <td>0</td>\n",
       "      <td>[Great., We'd, like, to, use, it., Can, you, d...</td>\n",
       "      <td>[[0.134864, 0.190868, -0.229234, -0.0120005, -...</td>\n",
       "    </tr>\n",
       "    <tr>\n",
       "      <th>2</th>\n",
       "      <td>A.D.</td>\n",
       "      <td>battleofshakerheightsthe</td>\n",
       "      <td>Romance</td>\n",
       "      <td>a.d.-battleofshakerheightsthe</td>\n",
       "      <td>744</td>\n",
       "      <td>[Don't know. We've got enough people., It does...</td>\n",
       "      <td>Don't know. We've got enough people. It doesn'...</td>\n",
       "      <td>55</td>\n",
       "      <td>0</td>\n",
       "      <td>[Don't, know., We've, got, enough, people., It...</td>\n",
       "      <td>[[-0.358049, 0.119932, 0.150175, -2.69726, -1....</td>\n",
       "    </tr>\n",
       "    <tr>\n",
       "      <th>3</th>\n",
       "      <td>A.D.</td>\n",
       "      <td>battleofshakerheightsthe</td>\n",
       "      <td>Romance</td>\n",
       "      <td>a.d.-battleofshakerheightsthe</td>\n",
       "      <td>746</td>\n",
       "      <td>[(yells), Okay people. Listen to my voice., Fr...</td>\n",
       "      <td>(yells) Okay people. Listen to my voice. From ...</td>\n",
       "      <td>103</td>\n",
       "      <td>0</td>\n",
       "      <td>[(yells), Okay, people., Listen, to, my, voice...</td>\n",
       "      <td>[[0.100379, 0.0804507, -0.0539697, -0.0161855,...</td>\n",
       "    </tr>\n",
       "    <tr>\n",
       "      <th>4</th>\n",
       "      <td>A.D.</td>\n",
       "      <td>battleofshakerheightsthe</td>\n",
       "      <td>Romance</td>\n",
       "      <td>a.d.-battleofshakerheightsthe</td>\n",
       "      <td>763</td>\n",
       "      <td>[Standby for rehearsal. Cue the, explosion.]</td>\n",
       "      <td>Standby for rehearsal. Cue the explosion.</td>\n",
       "      <td>41</td>\n",
       "      <td>0</td>\n",
       "      <td>[Standby, for, rehearsal., Cue, the, explosion.]</td>\n",
       "      <td>[[0.00857485, 0.0250367, -0.0158795, -0.003649...</td>\n",
       "    </tr>\n",
       "  </tbody>\n",
       "</table>\n",
       "</div>"
      ],
      "text/plain": [
       "   Char                     Title    Genre                           pkey  \\\n",
       "0  A.D.  battleofshakerheightsthe  Romance  a.d.-battleofshakerheightsthe   \n",
       "1  A.D.  battleofshakerheightsthe  Romance  a.d.-battleofshakerheightsthe   \n",
       "2  A.D.  battleofshakerheightsthe  Romance  a.d.-battleofshakerheightsthe   \n",
       "3  A.D.  battleofshakerheightsthe  Romance  a.d.-battleofshakerheightsthe   \n",
       "4  A.D.  battleofshakerheightsthe  Romance  a.d.-battleofshakerheightsthe   \n",
       "\n",
       "   LineID                                             Speech  \\\n",
       "0     739  [Okay, everyone. We're going to start, positio...   \n",
       "1     741  [Great. We'd like to use it. Can you, drive it...   \n",
       "2     744  [Don't know. We've got enough people., It does...   \n",
       "3     746  [(yells), Okay people. Listen to my voice., Fr...   \n",
       "4     763       [Standby for rehearsal. Cue the, explosion.]   \n",
       "\n",
       "                                                Line  linelength  M  \\\n",
       "0  Okay, everyone. We're going to start positioni...         239  0   \n",
       "1  Great. We'd like to use it. Can you drive it b...          72  0   \n",
       "2  Don't know. We've got enough people. It doesn'...          55  0   \n",
       "3  (yells) Okay people. Listen to my voice. From ...         103  0   \n",
       "4          Standby for rehearsal. Cue the explosion.          41  0   \n",
       "\n",
       "                                               words  \\\n",
       "0  [Okay,, everyone., We're, going, to, start, po...   \n",
       "1  [Great., We'd, like, to, use, it., Can, you, d...   \n",
       "2  [Don't, know., We've, got, enough, people., It...   \n",
       "3  [(yells), Okay, people., Listen, to, my, voice...   \n",
       "4   [Standby, for, rehearsal., Cue, the, explosion.]   \n",
       "\n",
       "                                            wordvecs  \n",
       "0  [[0.464266, 1.36037, -0.405199, -0.824685, -0....  \n",
       "1  [[0.134864, 0.190868, -0.229234, -0.0120005, -...  \n",
       "2  [[-0.358049, 0.119932, 0.150175, -2.69726, -1....  \n",
       "3  [[0.100379, 0.0804507, -0.0539697, -0.0161855,...  \n",
       "4  [[0.00857485, 0.0250367, -0.0158795, -0.003649...  "
      ]
     },
     "execution_count": 56,
     "metadata": {},
     "output_type": "execute_result"
    }
   ],
   "source": [
    "vec_column = []\n",
    "for i in with_gender.index:\n",
    "    word_vecs=[]\n",
    "    for j in with_gender['words'][i]:\n",
    "        word_vecs.append(word_vectors[j])\n",
    "    vec_column.append(word_vecs)\n",
    "with_gender['wordvecs']=vec_column\n",
    "with_gender.head()"
   ]
  },
  {
   "cell_type": "code",
   "execution_count": 57,
   "metadata": {
    "collapsed": true
   },
   "outputs": [],
   "source": [
    "#vectorized = with_gender\n",
    "#vectorized.to_pickle('vectorized_lines.p')\n",
    "vectorized=pd.read_pickle('vectorized_lines.p')"
   ]
  },
  {
   "cell_type": "code",
   "execution_count": null,
   "metadata": {
    "collapsed": true
   },
   "outputs": [],
   "source": []
  }
 ],
 "metadata": {
  "kernelspec": {
   "display_name": "Python 2",
   "language": "python",
   "name": "python2"
  },
  "language_info": {
   "codemirror_mode": {
    "name": "ipython",
    "version": 2
   },
   "file_extension": ".py",
   "mimetype": "text/x-python",
   "name": "python",
   "nbconvert_exporter": "python",
   "pygments_lexer": "ipython2",
   "version": "2.7.13"
  }
 },
 "nbformat": 4,
 "nbformat_minor": 2
}
